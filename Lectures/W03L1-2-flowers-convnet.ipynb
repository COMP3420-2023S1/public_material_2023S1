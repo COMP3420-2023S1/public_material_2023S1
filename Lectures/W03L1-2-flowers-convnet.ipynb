{
  "cells": [
    {
      "cell_type": "markdown",
      "metadata": {
        "id": "qtM1GSY2N38Y"
      },
      "source": [
        "# Using Convnets for classification of flower images"
      ]
    },
    {
      "cell_type": "code",
      "execution_count": 1,
      "metadata": {
        "colab": {
          "base_uri": "https://localhost:8080/"
        },
        "id": "umV55ahRN38d",
        "outputId": "9d9ea24d-c8be-479e-df82-10e3c02f9b61"
      },
      "outputs": [
        {
          "output_type": "execute_result",
          "data": {
            "text/plain": [
              "[PhysicalDevice(name='/physical_device:CPU:0', device_type='CPU'),\n",
              " PhysicalDevice(name='/physical_device:GPU:0', device_type='GPU')]"
            ]
          },
          "metadata": {},
          "execution_count": 1
        }
      ],
      "source": [
        "import tensorflow as tf\n",
        "tf.config.experimental.list_physical_devices()"
      ]
    },
    {
      "cell_type": "code",
      "execution_count": 2,
      "metadata": {
        "colab": {
          "base_uri": "https://localhost:8080/",
          "height": 35
        },
        "id": "BsBV0IKFN38m",
        "outputId": "7edd32c8-5205-43ab-a29c-a8a5abf96023"
      },
      "outputs": [
        {
          "output_type": "execute_result",
          "data": {
            "text/plain": [
              "'2.11.0'"
            ],
            "application/vnd.google.colaboratory.intrinsic+json": {
              "type": "string"
            }
          },
          "metadata": {},
          "execution_count": 2
        }
      ],
      "source": [
        "from tensorflow import keras\n",
        "keras.__version__"
      ]
    },
    {
      "cell_type": "markdown",
      "metadata": {
        "id": "IEKFd3flN38n"
      },
      "source": [
        "We'll be using a creative-commons licensed \n",
        "[flower photo dataset](https://www.tensorflow.org/datasets/catalog/tf_flowers) \n",
        "of 3670 images falling into 5 categories:\n",
        "<pre>\n",
        "'daisy', 'roses', 'dandelion', 'sunflowers', and 'tulips'\n",
        "</pre>\n",
        "\n",
        "Please download the following file:\n",
        "- [flower_photos.zip](https://drive.google.com/file/d/1pZNVfvi9iJRjS6fXFF3om7pp8Gp-AZtM/view?usp=share_link) (220MB)\n",
        "\n",
        "If you are running this on Google Colab, upload the zipped file to your Google drive, then mount your Google drive using the following code, and copy the file to the base folder:\n"
      ]
    },
    {
      "cell_type": "code",
      "source": [
        "from google.colab import drive\n",
        "drive.mount('/content/drive')"
      ],
      "metadata": {
        "colab": {
          "base_uri": "https://localhost:8080/"
        },
        "id": "IioCHT-aO-cS",
        "outputId": "0a7d4ea8-bc76-4877-d986-057d5cd4fa5b"
      },
      "execution_count": 3,
      "outputs": [
        {
          "output_type": "stream",
          "name": "stdout",
          "text": [
            "Mounted at /content/drive\n"
          ]
        }
      ]
    },
    {
      "cell_type": "code",
      "source": [
        "!cp /content/drive/MyDrive/Teaching/COMP3420/flower_photos.zip . "
      ],
      "metadata": {
        "id": "CnOHf2TlPDZX"
      },
      "execution_count": 4,
      "outputs": []
    },
    {
      "cell_type": "markdown",
      "source": [
        "We then need to unzip the file:"
      ],
      "metadata": {
        "id": "Q_i-lhr5O3d3"
      }
    },
    {
      "cell_type": "code",
      "execution_count": 5,
      "metadata": {
        "id": "hrz4ehFLN38o"
      },
      "outputs": [],
      "source": [
        "import zipfile\n",
        "\n",
        "with zipfile.ZipFile('flower_photos.zip', 'r') as zip_ref:\n",
        "    zip_ref.extractall()"
      ]
    },
    {
      "cell_type": "markdown",
      "metadata": {
        "id": "ZZOHSFv2N38q"
      },
      "source": [
        "The images are randomly split\n",
        "into a training set with 90% data and a\n",
        "test set with 10% data listed in CSV files:\n",
        "\n",
        "Training set: [train_set.csv](flower_photos/train_set.csv)\n",
        "Evaluation set: [eval_set.csv](flower_photos/eval_set.csv)\n"
      ]
    },
    {
      "cell_type": "markdown",
      "metadata": {
        "id": "gBBedQs0N38q"
      },
      "source": [
        "## A convnet model\n",
        "\n",
        "Let's try the same convnet model we used for the MNIST dataset, adjusted to a higher resolution and 3 colour channels."
      ]
    },
    {
      "cell_type": "code",
      "execution_count": 6,
      "metadata": {
        "id": "4Q9BP75lN38r"
      },
      "outputs": [],
      "source": [
        "import glob\n",
        "import os\n",
        "IMG_HEIGHT = 224\n",
        "IMG_WIDTH = 224\n",
        "IMG_CHANNELS = 3\n",
        "CLASS_NAMES = [os.path.basename(l) for l in glob.glob('flower_photos/*') \n",
        "               if '.' not in l]"
      ]
    },
    {
      "cell_type": "code",
      "execution_count": 7,
      "metadata": {
        "id": "99RO9_6AN38s"
      },
      "outputs": [],
      "source": [
        "def read_and_decode(filename, reshape_dims):\n",
        "  # Read the file\n",
        "  img = tf.io.read_file(filename)\n",
        "  # Convert the compressed string to a 3D uint8 tensor.\n",
        "  img = tf.image.decode_jpeg(img, channels=IMG_CHANNELS)\n",
        "  # Use `convert_image_dtype` to convert to floats in the [0,1] range.\n",
        "  img = tf.image.convert_image_dtype(img, tf.float32)\n",
        "  # Resize the image to the desired size.\n",
        "  return tf.image.resize(img, reshape_dims)\n",
        "\n",
        "# decode_csv changed so that the label is the index into CLASS_NAMES array\n",
        "def decode_csv(csv_row):\n",
        "  record_defaults = [\"path\", \"flower\"]\n",
        "  filename, label_string = tf.io.decode_csv(csv_row, record_defaults)\n",
        "  img = read_and_decode(filename, [IMG_HEIGHT, IMG_WIDTH])\n",
        "  label = tf.argmax(tf.math.equal(CLASS_NAMES, label_string))\n",
        "  return img, label\n",
        "\n",
        "train_dataset = (tf.data.TextLineDataset(\n",
        "    \"flower_photos/train_set.csv\").\n",
        "    map(decode_csv)).batch(10)\n",
        "\n",
        "eval_dataset = (tf.data.TextLineDataset(\n",
        "    \"flower_photos/eval_set.csv\").\n",
        "    map(decode_csv)).batch(10)"
      ]
    },
    {
      "cell_type": "code",
      "execution_count": 8,
      "metadata": {
        "id": "J_UBrFZHN38u"
      },
      "outputs": [],
      "source": [
        "from tensorflow.keras import layers\n",
        "from tensorflow.keras import models\n",
        "\n",
        "flowers_model = models.Sequential()\n",
        "flowers_model.add(layers.Conv2D(filters=32, kernel_size=3, activation=\"relu\", \n",
        "                                input_shape=(IMG_HEIGHT, IMG_WIDTH, IMG_CHANNELS)))\n",
        "flowers_model.add(layers.MaxPooling2D(pool_size=2))\n",
        "flowers_model.add(layers.Conv2D(filters=64, kernel_size=3, activation=\"relu\"))\n",
        "flowers_model.add(layers.MaxPooling2D(pool_size=2))\n",
        "flowers_model.add(layers.Conv2D(filters=128, kernel_size=3, activation=\"relu\"))\n",
        "flowers_model.add(layers.Flatten())\n",
        "flowers_model.add(layers.Dense(5, activation=\"softmax\"))\n",
        "\n",
        "flowers_model.compile(optimizer='adam',\n",
        "              loss=tf.keras.losses.SparseCategoricalCrossentropy(from_logits=False),\n",
        "              metrics=['accuracy'])"
      ]
    },
    {
      "cell_type": "code",
      "execution_count": 9,
      "metadata": {
        "colab": {
          "base_uri": "https://localhost:8080/"
        },
        "id": "TvOjjH48N38w",
        "outputId": "8b1b1edf-f099-4496-ca20-b0e13a76a551"
      },
      "outputs": [
        {
          "output_type": "stream",
          "name": "stdout",
          "text": [
            "Model: \"sequential\"\n",
            "_________________________________________________________________\n",
            " Layer (type)                Output Shape              Param #   \n",
            "=================================================================\n",
            " conv2d (Conv2D)             (None, 222, 222, 32)      896       \n",
            "                                                                 \n",
            " max_pooling2d (MaxPooling2D  (None, 111, 111, 32)     0         \n",
            " )                                                               \n",
            "                                                                 \n",
            " conv2d_1 (Conv2D)           (None, 109, 109, 64)      18496     \n",
            "                                                                 \n",
            " max_pooling2d_1 (MaxPooling  (None, 54, 54, 64)       0         \n",
            " 2D)                                                             \n",
            "                                                                 \n",
            " conv2d_2 (Conv2D)           (None, 52, 52, 128)       73856     \n",
            "                                                                 \n",
            " flatten (Flatten)           (None, 346112)            0         \n",
            "                                                                 \n",
            " dense (Dense)               (None, 5)                 1730565   \n",
            "                                                                 \n",
            "=================================================================\n",
            "Total params: 1,823,813\n",
            "Trainable params: 1,823,813\n",
            "Non-trainable params: 0\n",
            "_________________________________________________________________\n"
          ]
        }
      ],
      "source": [
        "flowers_model.summary()"
      ]
    },
    {
      "cell_type": "code",
      "execution_count": 10,
      "metadata": {
        "colab": {
          "base_uri": "https://localhost:8080/",
          "height": 865
        },
        "id": "HXBVnOkzN38x",
        "outputId": "802bb946-bdba-4773-aef3-51de1a3073c6"
      },
      "outputs": [
        {
          "output_type": "execute_result",
          "data": {
            "image/png": "[encoded data removed]",
            "text/plain": [
              "<IPython.core.display.Image object>"
            ]
          },
          "metadata": {},
          "execution_count": 10
        }
      ],
      "source": [
        "tf.keras.utils.plot_model(flowers_model, show_shapes=True, show_layer_names=False)"
      ]
    },
    {
      "cell_type": "code",
      "execution_count": 11,
      "metadata": {
        "colab": {
          "base_uri": "https://localhost:8080/"
        },
        "id": "Oug5SeYnN38y",
        "outputId": "c8fdad48-6e82-434e-abec-c7cea359b799"
      },
      "outputs": [
        {
          "output_type": "stream",
          "name": "stdout",
          "text": [
            "Epoch 1/10\n",
            "330/330 [==============================] - 23s 33ms/step - loss: 1.2821 - accuracy: 0.4691 - val_loss: 1.1241 - val_accuracy: 0.5568\n",
            "Epoch 2/10\n",
            "330/330 [==============================] - 8s 24ms/step - loss: 0.9885 - accuracy: 0.6170 - val_loss: 1.1981 - val_accuracy: 0.6189\n"
          ]
        }
      ],
      "source": [
        "history = flowers_model.fit(train_dataset, validation_data=eval_dataset, epochs=10,\n",
        "                            callbacks=[tf.keras.callbacks.EarlyStopping(patience=1)])"
      ]
    },
    {
      "cell_type": "markdown",
      "metadata": {
        "id": "hvdiObUEN38z"
      },
      "source": [
        "We can see that the accuracy of the eval_test set is 61.89%. This is an increase from the accuracy of 38.11% when we used only a simple dense layer."
      ]
    },
    {
      "cell_type": "markdown",
      "metadata": {
        "id": "CxyXrZHpN380"
      },
      "source": [
        "# Implementing AlexNet from Scratch\n",
        "\n",
        "Let's implement AlexNet from scratch and check whether we obtain any improvements. Parts of this code are based on the code samples of Chapter 3 of [Practical Machine Learning for Computer Vision](https://learning.oreilly.com/library/view/practical-machine-learning) and hosted on https://github.com/GoogleCloudPlatform/practical-ml-vision-book.\n",
        "\n"
      ]
    },
    {
      "cell_type": "code",
      "execution_count": 13,
      "metadata": {
        "colab": {
          "base_uri": "https://localhost:8080/"
        },
        "id": "GLYrP-McN383",
        "outputId": "6918d0b6-a57f-453a-e9a6-6354e97bf8a7"
      },
      "outputs": [
        {
          "output_type": "stream",
          "name": "stdout",
          "text": [
            "Model: \"sequential_1\"\n",
            "_________________________________________________________________\n",
            " Layer (type)                Output Shape              Param #   \n",
            "=================================================================\n",
            " conv2d_3 (Conv2D)           (None, 54, 54, 96)        34944     \n",
            "                                                                 \n",
            " conv2d_4 (Conv2D)           (None, 50, 50, 256)       614656    \n",
            "                                                                 \n",
            " max_pooling2d_2 (MaxPooling  (None, 25, 25, 256)      0         \n",
            " 2D)                                                             \n",
            "                                                                 \n",
            " conv2d_5 (Conv2D)           (None, 23, 23, 384)       885120    \n",
            "                                                                 \n",
            " max_pooling2d_3 (MaxPooling  (None, 11, 11, 384)      0         \n",
            " 2D)                                                             \n",
            "                                                                 \n",
            " conv2d_6 (Conv2D)           (None, 9, 9, 384)         1327488   \n",
            "                                                                 \n",
            " conv2d_7 (Conv2D)           (None, 7, 7, 256)         884992    \n",
            "                                                                 \n",
            " max_pooling2d_4 (MaxPooling  (None, 3, 3, 256)        0         \n",
            " 2D)                                                             \n",
            "                                                                 \n",
            " flatten_1 (Flatten)         (None, 2304)              0         \n",
            "                                                                 \n",
            " dense_1 (Dense)             (None, 4096)              9441280   \n",
            "                                                                 \n",
            " dense_2 (Dense)             (None, 4096)              16781312  \n",
            "                                                                 \n",
            " dense_3 (Dense)             (None, 5)                 20485     \n",
            "                                                                 \n",
            "=================================================================\n",
            "Total params: 29,990,277\n",
            "Trainable params: 29,990,277\n",
            "Non-trainable params: 0\n",
            "_________________________________________________________________\n"
          ]
        }
      ],
      "source": [
        "IMAGE_SIZE = [224, 224] # available image sizes in flowers104 dataset: 512x512, 331x331, 224x224, 192,192\n",
        "BATCH_SIZE = 64\n",
        "EPOCHS = 13\n",
        "\n",
        "alexnet_model = tf.keras.Sequential([\n",
        "    tf.keras.Input(shape=[*IMAGE_SIZE, 3]),\n",
        "    # It would be best practice to convert the image from int [0,255] to float [-1,1]\n",
        "    # format here but this model converges just as well without it.\n",
        "    tf.keras.layers.Conv2D(filters=96, kernel_size=11, strides=4, activation='relu'),\n",
        "    tf.keras.layers.Conv2D(filters=256, kernel_size=5, activation='relu'),\n",
        "    tf.keras.layers.MaxPool2D(pool_size=2, strides=2),\n",
        "    tf.keras.layers.Conv2D(filters=384, kernel_size=3, activation='relu'),\n",
        "    tf.keras.layers.MaxPool2D(pool_size=2, strides=2),\n",
        "    tf.keras.layers.Conv2D(filters=384, kernel_size=3, activation='relu'),\n",
        "    tf.keras.layers.Conv2D(filters=256, kernel_size=3, activation='relu'),\n",
        "    tf.keras.layers.MaxPool2D(pool_size=2, strides=2),\n",
        "    tf.keras.layers.Flatten(),\n",
        "    tf.keras.layers.Dense(4096, activation='relu'),\n",
        "    tf.keras.layers.Dense(4096, activation='relu'),\n",
        "    tf.keras.layers.Dense(len(CLASS_NAMES), activation='softmax')\n",
        "])\n",
        "    \n",
        "alexnet_model.compile(\n",
        "    optimizer='adam',\n",
        "    loss = 'sparse_categorical_crossentropy',\n",
        "    metrics=['accuracy']#,\n",
        "    #steps_per_execution=8\n",
        ")\n",
        "alexnet_model.summary()"
      ]
    },
    {
      "cell_type": "markdown",
      "metadata": {
        "id": "q6z7-j0eN384"
      },
      "source": [
        "This time, we will use a variable learning rate which has proven to be more effective than a fixed learning rate. The following code will set a learning rate that decreases exponentially at every iteration of the training loop, as shown in the plot below."
      ]
    },
    {
      "cell_type": "code",
      "execution_count": 14,
      "metadata": {
        "colab": {
          "base_uri": "https://localhost:8080/",
          "height": 282
        },
        "id": "4hFVkyHmN385",
        "outputId": "f9b03f6f-8415-48cd-c74e-ba3c5176814d"
      },
      "outputs": [
        {
          "output_type": "stream",
          "name": "stdout",
          "text": [
            "Learning rate schedule: 0.0001 to 0.0001 to 1.62e-05\n"
          ]
        },
        {
          "output_type": "display_data",
          "data": {
            "text/plain": [
              "<Figure size 432x288 with 1 Axes>"
            ],
            "image/png": "[encoded data removed]"
          },
          "metadata": {
            "needs_background": "light"
          }
        }
      ],
      "source": [
        "from matplotlib import pyplot as plt\n",
        "\n",
        "# Learning rate schedule\n",
        "LR_START = 0.00001\n",
        "LR_MAX = 0.0001\n",
        "LR_MIN = 0.00001\n",
        "LR_RAMPUP_EPOCHS = 0\n",
        "LR_SUSTAIN_EPOCHS = 0\n",
        "LR_EXP_DECAY = .8\n",
        "\n",
        "def lrfn(epoch):\n",
        "    if epoch < LR_RAMPUP_EPOCHS:\n",
        "        lr = (LR_MAX - LR_START) / LR_RAMPUP_EPOCHS * epoch + LR_START\n",
        "    elif epoch < LR_RAMPUP_EPOCHS + LR_SUSTAIN_EPOCHS:\n",
        "        lr = LR_MAX\n",
        "    else:\n",
        "        lr = (LR_MAX - LR_MIN) * LR_EXP_DECAY**(epoch - LR_RAMPUP_EPOCHS - LR_SUSTAIN_EPOCHS) + LR_MIN\n",
        "    return lr\n",
        "    \n",
        "lr_callback = tf.keras.callbacks.LearningRateScheduler(lrfn, verbose=True)\n",
        "\n",
        "rng = [i for i in range(EPOCHS)]\n",
        "y = [lrfn(x) for x in rng]\n",
        "plt.plot(rng, y)\n",
        "print(\"Learning rate schedule: {:.3g} to {:.3g} to {:.3g}\".format(y[0], max(y), y[-1]))"
      ]
    },
    {
      "cell_type": "markdown",
      "metadata": {
        "id": "5K6h70pJN386"
      },
      "source": [
        "Let's now train the model."
      ]
    },
    {
      "cell_type": "code",
      "execution_count": 15,
      "metadata": {
        "colab": {
          "base_uri": "https://localhost:8080/"
        },
        "id": "kOFTFxZNN387",
        "outputId": "b674f11a-1cee-4076-c89e-551569058930"
      },
      "outputs": [
        {
          "output_type": "stream",
          "name": "stdout",
          "text": [
            "\n",
            "Epoch 1: LearningRateScheduler setting learning rate to 0.0001.\n",
            "Epoch 1/13\n",
            "330/330 [==============================] - 18s 36ms/step - loss: 1.3472 - accuracy: 0.3985 - val_loss: 1.1138 - val_accuracy: 0.5622 - lr: 1.0000e-04\n",
            "\n",
            "Epoch 2: LearningRateScheduler setting learning rate to 8.2e-05.\n",
            "Epoch 2/13\n",
            "330/330 [==============================] - 13s 41ms/step - loss: 1.0844 - accuracy: 0.5515 - val_loss: 1.0312 - val_accuracy: 0.6108 - lr: 8.2000e-05\n",
            "\n",
            "Epoch 3: LearningRateScheduler setting learning rate to 6.760000000000002e-05.\n",
            "Epoch 3/13\n",
            "330/330 [==============================] - 14s 42ms/step - loss: 0.9212 - accuracy: 0.6442 - val_loss: 0.9845 - val_accuracy: 0.6378 - lr: 6.7600e-05\n",
            "\n",
            "Epoch 4: LearningRateScheduler setting learning rate to 5.608000000000001e-05.\n",
            "Epoch 4/13\n",
            "330/330 [==============================] - 12s 37ms/step - loss: 0.8075 - accuracy: 0.6861 - val_loss: 0.9129 - val_accuracy: 0.6757 - lr: 5.6080e-05\n",
            "\n",
            "Epoch 5: LearningRateScheduler setting learning rate to 4.686400000000001e-05.\n",
            "Epoch 5/13\n",
            "330/330 [==============================] - 12s 36ms/step - loss: 0.7096 - accuracy: 0.7306 - val_loss: 0.8789 - val_accuracy: 0.6892 - lr: 4.6864e-05\n",
            "\n",
            "Epoch 6: LearningRateScheduler setting learning rate to 3.949120000000001e-05.\n",
            "Epoch 6/13\n",
            "330/330 [==============================] - 12s 36ms/step - loss: 0.6065 - accuracy: 0.7691 - val_loss: 0.8861 - val_accuracy: 0.7081 - lr: 3.9491e-05\n"
          ]
        }
      ],
      "source": [
        "history = alexnet_model.fit(train_dataset, validation_data=eval_dataset, epochs=EPOCHS,\n",
        "                    callbacks=[lr_callback, tf.keras.callbacks.EarlyStopping(patience=1)])"
      ]
    },
    {
      "cell_type": "markdown",
      "metadata": {
        "id": "6kb7JdfEN388"
      },
      "source": [
        "Accuracy on the eval set has now increased to 70.81%."
      ]
    },
    {
      "cell_type": "markdown",
      "metadata": {
        "id": "TA1_IXRUN389"
      },
      "source": []
    }
  ],
  "metadata": {
    "celltoolbar": "Slideshow",
    "kernelspec": {
      "display_name": "comp3420",
      "language": "python",
      "name": "python3"
    },
    "language_info": {
      "codemirror_mode": {
        "name": "ipython",
        "version": 3
      },
      "file_extension": ".py",
      "mimetype": "text/x-python",
      "name": "python",
      "nbconvert_exporter": "python",
      "pygments_lexer": "ipython3",
      "version": "3.9.16"
    },
    "vscode": {
      "interpreter": {
        "hash": "c02f33083e7812b9e1e2691d902fc78cd9db9629fd265ab84f982d3fd9e6cdd0"
      }
    },
    "colab": {
      "provenance": []
    },
    "accelerator": "GPU",
    "gpuClass": "standard"
  },
  "nbformat": 4,
  "nbformat_minor": 0
}