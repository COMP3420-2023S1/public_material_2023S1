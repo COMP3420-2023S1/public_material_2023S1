{
 "cells": [
  {
   "cell_type": "markdown",
   "metadata": {},
   "source": [
    "# Embeddings"
   ]
  },
  {
   "cell_type": "markdown",
   "metadata": {},
   "source": [
    "## WordNet\n",
    "\n",
    "This first part should be able to run on almost any system. No need for Google Colab for this part!\n",
    "\n",
    "Import the WordNet library within NLTK's corpus library"
   ]
  },
  {
   "cell_type": "code",
   "execution_count": 1,
   "metadata": {},
   "outputs": [],
   "source": [
    "from nltk.corpus import wordnet as wn"
   ]
  },
  {
   "cell_type": "markdown",
   "metadata": {},
   "source": [
    "The word \"grade\" can mean many things in English. Use `wn.synsets()` to find the different synsets of these.\n",
    "\n",
    "Print out the definitions for each one."
   ]
  },
  {
   "cell_type": "code",
   "execution_count": 2,
   "metadata": {},
   "outputs": [
    {
     "name": "stdout",
     "output_type": "stream",
     "text": [
      "Synset('class.n.02') a body of students who are taught together\n",
      "Synset('grade.n.02') a relative position or degree of value in a graded group\n",
      "Synset('grade.n.03') the gradient of a slope or road or other surface\n",
      "Synset('grad.n.01') one-hundredth of a right angle\n",
      "Synset('grade.n.05') a degree of ablaut\n",
      "Synset('mark.n.01') a number or letter indicating quality (especially of a student's performance)\n",
      "Synset('grade.n.07') the height of the ground on which something stands\n",
      "Synset('degree.n.01') a position on a scale of intensity or amount or quality\n",
      "Synset('grade.n.09') a variety of cattle produced by crossbreeding with a superior breed\n",
      "Synset('rate.v.01') assign a rank or rating to\n",
      "Synset('grade.v.02') level to the right gradient\n",
      "Synset('grade.v.03') assign a grade or rank to, according to one's evaluation\n",
      "Synset('grade.v.04') determine the grade of or assign a grade to\n"
     ]
    }
   ],
   "source": [
    "grade = wn.synsets('grade')\n",
    "for g in grade:\n",
    "    print(g, g.definition())"
   ]
  },
  {
   "cell_type": "markdown",
   "metadata": {},
   "source": [
    "Take the synset `mark.n.01` and print out some example usages of it"
   ]
  },
  {
   "cell_type": "code",
   "execution_count": 3,
   "metadata": {},
   "outputs": [
    {
     "data": {
      "text/plain": [
       "['she made good marks in algebra',\n",
       " 'grade A milk',\n",
       " 'what was your score on your homework?']"
      ]
     },
     "execution_count": 3,
     "metadata": {},
     "output_type": "execute_result"
    }
   ],
   "source": [
    "mark = wn.synset('mark.n.01')\n",
    "mark.examples()"
   ]
  },
  {
   "cell_type": "markdown",
   "metadata": {},
   "source": [
    "Does it have any hyponyms? (Examples / instances of it... `A ____ is a mark.`"
   ]
  },
  {
   "cell_type": "code",
   "execution_count": 4,
   "metadata": {},
   "outputs": [
    {
     "data": {
      "text/plain": [
       "[Synset('decile.n.01'),\n",
       " Synset('grade_point.n.01'),\n",
       " Synset('percentile.n.01'),\n",
       " Synset('quartile.n.01')]"
      ]
     },
     "execution_count": 4,
     "metadata": {},
     "output_type": "execute_result"
    }
   ],
   "source": [
    "mark.hyponyms()"
   ]
  },
  {
   "cell_type": "markdown",
   "metadata": {},
   "source": [
    "What are its hypernyms? `A mark is a ____`"
   ]
  },
  {
   "cell_type": "code",
   "execution_count": 5,
   "metadata": {},
   "outputs": [
    {
     "data": {
      "text/plain": [
       "[Synset('evaluation.n.02')]"
      ]
     },
     "execution_count": 5,
     "metadata": {},
     "output_type": "execute_result"
    }
   ],
   "source": [
    "mark.hypernyms()"
   ]
  },
  {
   "cell_type": "markdown",
   "metadata": {},
   "source": [
    "What lemma names does `mark` have? i.e. What are some synonyms of `mark`?"
   ]
  },
  {
   "cell_type": "code",
   "execution_count": 6,
   "metadata": {},
   "outputs": [
    {
     "data": {
      "text/plain": [
       "['mark', 'grade', 'score']"
      ]
     },
     "execution_count": 6,
     "metadata": {},
     "output_type": "execute_result"
    }
   ],
   "source": [
    "mark.lemma_names()"
   ]
  },
  {
   "cell_type": "markdown",
   "metadata": {},
   "source": []
  },
  {
   "cell_type": "markdown",
   "metadata": {
    "id": "OSQVr3b7v_Rg"
   },
   "source": [
    "## An End-to-End Text Classification System\n",
    "\n",
    "This is a combination of a review of last week (making a classifier) and also practice with embeddings.\n",
    "\n",
    "The task will be to classify questions.\n",
    "\n",
    "It's gong to be heavy so to run this task we advice that you use [Google Colaboratory](https://colab.research.google.com) (also called Google Colab), which is a cloud solution to run Jupyter notebooks. The demonstrator will show how to use Google Colab. For additional information and to practice with the use of notebooks in Google Colab, you can also follow this link:\n",
    "\n",
    "* [Welcome notebook and link to additional resources](https://colab.research.google.com/notebooks/welcome.ipynb)\n",
    "\n",
    "### Question Classification\n",
    "\n",
    "NLTK has a corpus of questions and their question types according to a particular classification scheme (e.g. DESC refers to a question expecting a descriptive answer, such as one starting with \"How\"; HUM refers to a question expecting an answer referring to a human). Below is an example of use of the corpus:"
   ]
  },
  {
   "cell_type": "code",
   "execution_count": 7,
   "metadata": {
    "colab": {
     "base_uri": "https://localhost:8080/"
    },
    "id": "HdoJ387Vv_Rq",
    "outputId": "6043753b-a65e-490e-91a1-3d33cf00cc9e"
   },
   "outputs": [
    {
     "name": "stderr",
     "output_type": "stream",
     "text": [
      "[nltk_data] Downloading package qc to /Users/gregb/nltk_data...\n",
      "[nltk_data]   Package qc is already up-to-date!\n"
     ]
    }
   ],
   "source": [
    "import nltk\n",
    "nltk.download(\"qc\")\n",
    "from nltk.corpus import qc\n",
    "train = qc.tuples(\"train.txt\")\n",
    "test = qc.tuples(\"test.txt\")"
   ]
  },
  {
   "cell_type": "code",
   "execution_count": 8,
   "metadata": {
    "colab": {
     "base_uri": "https://localhost:8080/"
    },
    "id": "U78gbdkzv_SM",
    "outputId": "5791538d-7b76-48cf-f652-94b88702e39a"
   },
   "outputs": [
    {
     "data": {
      "text/plain": [
       "[('DESC:manner', 'How did serfdom develop in and then leave Russia ?'),\n",
       " ('ENTY:cremat', 'What films featured the character Popeye Doyle ?'),\n",
       " ('DESC:manner', \"How can I find a list of celebrities ' real names ?\")]"
      ]
     },
     "execution_count": 8,
     "metadata": {},
     "output_type": "execute_result"
    }
   ],
   "source": [
    "train[:3]"
   ]
  },
  {
   "cell_type": "code",
   "execution_count": 9,
   "metadata": {
    "colab": {
     "base_uri": "https://localhost:8080/"
    },
    "id": "dUCCU6awv_Si",
    "outputId": "d5640021-57a0-4ac6-847c-45a18c41b0ef"
   },
   "outputs": [
    {
     "data": {
      "text/plain": [
       "[('NUM:dist', 'How far is it from Denver to Aspen ?'),\n",
       " ('LOC:city', 'What county is Modesto , California in ?'),\n",
       " ('HUM:desc', 'Who was Galileo ?')]"
      ]
     },
     "execution_count": 9,
     "metadata": {},
     "output_type": "execute_result"
    }
   ],
   "source": [
    "test[:3]"
   ]
  },
  {
   "cell_type": "markdown",
   "metadata": {
    "id": "WCOTaE2Yv_S-"
   },
   "source": [
    "### Exercise: Find all question types\n",
    "Write Python code that lists all the possible question types of the training set (**remember: for data exploration, never look at the test set**).\n"
   ]
  },
  {
   "cell_type": "code",
   "execution_count": 10,
   "metadata": {
    "id": "yn7EUUwUv_TE"
   },
   "outputs": [],
   "source": [
    "qtypes = list(set([x for (x,y) in train]))"
   ]
  },
  {
   "cell_type": "code",
   "execution_count": 11,
   "metadata": {
    "colab": {
     "base_uri": "https://localhost:8080/"
    },
    "id": "AvETLOhxv_TW",
    "outputId": "cad1c622-aacb-493b-f321-c69d994deeca"
   },
   "outputs": [
    {
     "data": {
      "text/plain": [
       "['NUM:ord',\n",
       " 'ENTY:word',\n",
       " 'NUM:weight',\n",
       " 'ENTY:substance',\n",
       " 'LOC:mount',\n",
       " 'ENTY:plant',\n",
       " 'NUM:perc',\n",
       " 'ABBR:abb',\n",
       " 'ENTY:animal',\n",
       " 'ENTY:termeq',\n",
       " 'ENTY:techmeth',\n",
       " 'HUM:gr',\n",
       " 'DESC:reason',\n",
       " 'ENTY:body',\n",
       " 'LOC:country',\n",
       " 'NUM:volsize',\n",
       " 'DESC:manner',\n",
       " 'ENTY:letter',\n",
       " 'ENTY:food',\n",
       " 'LOC:city',\n",
       " 'NUM:money',\n",
       " 'ENTY:veh',\n",
       " 'ENTY:cremat',\n",
       " 'ENTY:event',\n",
       " 'NUM:speed',\n",
       " 'NUM:code',\n",
       " 'DESC:desc',\n",
       " 'DESC:def',\n",
       " 'LOC:other',\n",
       " 'NUM:temp',\n",
       " 'NUM:period',\n",
       " 'ENTY:sport',\n",
       " 'LOC:state',\n",
       " 'ENTY:symbol',\n",
       " 'ENTY:currency',\n",
       " 'ENTY:religion',\n",
       " 'ABBR:exp',\n",
       " 'NUM:count',\n",
       " 'ENTY:color',\n",
       " 'NUM:date',\n",
       " 'ENTY:instru',\n",
       " 'ENTY:dismed',\n",
       " 'ENTY:lang',\n",
       " 'HUM:title',\n",
       " 'ENTY:product',\n",
       " 'HUM:ind',\n",
       " 'NUM:other',\n",
       " 'HUM:desc',\n",
       " 'ENTY:other',\n",
       " 'NUM:dist']"
      ]
     },
     "execution_count": 11,
     "metadata": {},
     "output_type": "execute_result"
    }
   ],
   "source": [
    "qtypes"
   ]
  },
  {
   "cell_type": "markdown",
   "metadata": {
    "id": "inQh0Nrjv_Tp"
   },
   "source": [
    "### Exercise: Find all general types\n",
    "\n",
    "The question types have two parts. The first part describes a general type, and the second part defines a subtype. For example, the question type `DESC:manner` belongs to the general `DESC` type and within that type to the `manner` subtype. Let's focus on the general types only. Write Python code that lists all the possible general types (there are 6 of them)."
   ]
  },
  {
   "cell_type": "code",
   "execution_count": 12,
   "metadata": {
    "colab": {
     "base_uri": "https://localhost:8080/"
    },
    "id": "C4pjpWV9v_Tt",
    "outputId": "f306a984-6e4d-4410-e2a6-79d7e6a2cbcc"
   },
   "outputs": [
    {
     "data": {
      "text/plain": [
       "['NUM', 'ABBR', 'ENTY', 'LOC', 'HUM', 'DESC']"
      ]
     },
     "execution_count": 12,
     "metadata": {},
     "output_type": "execute_result"
    }
   ],
   "source": [
    "general_types = list(set([q.split(':')[0] for q in qtypes]))\n",
    "general_types"
   ]
  },
  {
   "cell_type": "markdown",
   "metadata": {
    "id": "GnMXsRBMv_T-"
   },
   "source": [
    "### Exercise: Partition the data\n",
    "There is a train and test data, but for this exercise we want to have a partition into train, dev-test, and test. In this exercise, combine all data into one array and do a 3-way partition into train, dev-test, and test. Make sure that you shuffle the data prior to doing the partition. Also, make sure that you only use the general label types."
   ]
  },
  {
   "cell_type": "code",
   "execution_count": 13,
   "metadata": {
    "colab": {
     "base_uri": "https://localhost:8080/"
    },
    "id": "qq6JJ-EBv_UE",
    "outputId": "6fac9fe8-b219-4812-dad9-85035dff7325"
   },
   "outputs": [
    {
     "data": {
      "text/plain": [
       "[('DESC', 'How did serfdom develop in and then leave Russia ?'),\n",
       " ('ENTY', 'What films featured the character Popeye Doyle ?')]"
      ]
     },
     "execution_count": 13,
     "metadata": {},
     "output_type": "execute_result"
    }
   ],
   "source": [
    "qdata = [(qtype.split(':')[0], qstring) for qtype, qstring in train+test]\n",
    "qdata[:2]"
   ]
  },
  {
   "cell_type": "code",
   "execution_count": 14,
   "metadata": {
    "id": "EWQx8J2tv_Ua"
   },
   "outputs": [],
   "source": [
    "import random\n",
    "random.seed(1234)\n",
    "random.shuffle(qdata)\n",
    "threshold1 = int(len(qdata)*.6)\n",
    "threshold2 = int(len(qdata)*.8)\n",
    "q_train = qdata[:threshold1]\n",
    "q_devtest = qdata[threshold1:threshold2]\n",
    "q_test = qdata[threshold2:]"
   ]
  },
  {
   "cell_type": "markdown",
   "metadata": {
    "id": "Iri6AvfYv_Uj"
   },
   "source": [
    "### Exercise: Tokenise the data\n",
    "\n",
    "Use Keras' tokeniser to tokenise all the data. For this exercise we will use only the 100 most frequent words in the training set (since you aren't supposed to use the dev-test or test sets to extract features)."
   ]
  },
  {
   "cell_type": "code",
   "execution_count": 15,
   "metadata": {
    "id": "3Jbf0L_Qv_Un"
   },
   "outputs": [],
   "source": [
    "from tensorflow.keras.preprocessing.text import Tokenizer\n",
    "\n",
    "max_words = 100\n",
    "tokenizer = Tokenizer(num_words=max_words, oov_token=\"[UNK]\") # oov_token assigns the code 1 for all unknown words\n",
    "tokenizer.fit_on_texts([t for l, t in q_train])"
   ]
  },
  {
   "cell_type": "code",
   "execution_count": 16,
   "metadata": {
    "id": "UE2ecEF2v_U2"
   },
   "outputs": [],
   "source": [
    "indices_train = tokenizer.texts_to_sequences([t for l, t in q_train])\n",
    "indices_devtest = tokenizer.texts_to_sequences([t for l, t in q_devtest])\n",
    "indices_test = tokenizer.texts_to_sequences([[t for l, t in q_test]])"
   ]
  },
  {
   "cell_type": "code",
   "execution_count": 17,
   "metadata": {
    "colab": {
     "base_uri": "https://localhost:8080/"
    },
    "id": "2gc3ClcGwCyz",
    "outputId": "10ac4021-da08-481e-c076-1401646e1c97"
   },
   "outputs": [
    {
     "data": {
      "text/plain": [
       "[[8, 19, 1, 43, 1], [23, 4, 1]]"
      ]
     },
     "execution_count": 17,
     "metadata": {},
     "output_type": "execute_result"
    }
   ],
   "source": [
    "indices_train[:2]"
   ]
  },
  {
   "cell_type": "code",
   "execution_count": 18,
   "metadata": {
    "colab": {
     "base_uri": "https://localhost:8080/"
    },
    "id": "tQqQC4d3wHQd",
    "outputId": "e9f722e2-9da4-4ea7-da30-1b8bf9d403e2"
   },
   "outputs": [
    {
     "data": {
      "text/plain": [
       "[('DESC', 'How do ants have sex ?'), ('LOC', 'Where is Guam ?')]"
      ]
     },
     "execution_count": 18,
     "metadata": {},
     "output_type": "execute_result"
    }
   ],
   "source": [
    "q_train[:2]"
   ]
  },
  {
   "cell_type": "code",
   "execution_count": 19,
   "metadata": {
    "colab": {
     "base_uri": "https://localhost:8080/",
     "height": 36
    },
    "id": "lxMDEFJuxfiz",
    "outputId": "c8b2922b-8404-412d-dfb2-2d326daf6534"
   },
   "outputs": [
    {
     "data": {
      "text/plain": [
       "'[UNK]'"
      ]
     },
     "execution_count": 19,
     "metadata": {},
     "output_type": "execute_result"
    }
   ],
   "source": [
    "reverse_word_index = dict((i, w) for w, i in tokenizer.word_index.items())\n",
    "reverse_word_index[1]"
   ]
  },
  {
   "cell_type": "code",
   "execution_count": 20,
   "metadata": {
    "colab": {
     "base_uri": "https://localhost:8080/",
     "height": 36
    },
    "id": "Zob47UVKxfm0",
    "outputId": "69137d30-4a55-4543-eae2-b5b1d6b4eee2"
   },
   "outputs": [
    {
     "data": {
      "text/plain": [
       "'how do [UNK] have [UNK]'"
      ]
     },
     "execution_count": 20,
     "metadata": {},
     "output_type": "execute_result"
    }
   ],
   "source": [
    "\" \".join([reverse_word_index[x] for x in indices_train[0]])"
   ]
  },
  {
   "cell_type": "markdown",
   "metadata": {
    "id": "epuXbJoyv_VA"
   },
   "source": [
    "### Exercise: Vectorize the data\n",
    "The following code shows the distribution of lengths of my training data (could be different in your training data):"
   ]
  },
  {
   "cell_type": "code",
   "execution_count": 21,
   "metadata": {
    "colab": {
     "base_uri": "https://localhost:8080/",
     "height": 340
    },
    "id": "ZEaD0ouFv_VE",
    "outputId": "1ee82ebd-91c9-417e-eff9-3ce784e4276d"
   },
   "outputs": [
    {
     "data": {
      "text/plain": [
       "(array([ 328., 1092., 1154.,  615.,  190.,  129.,   48.,   12.,    0.,\n",
       "           3.]),\n",
       " array([ 2. ,  4.8,  7.6, 10.4, 13.2, 16. , 18.8, 21.6, 24.4, 27.2, 30. ]),\n",
       " <BarContainer object of 10 artists>)"
      ]
     },
     "execution_count": 21,
     "metadata": {},
     "output_type": "execute_result"
    },
    {
     "data": {
      "image/png": "[encoded data removed]",
      "text/plain": [
       "<Figure size 640x480 with 1 Axes>"
      ]
     },
     "metadata": {},
     "output_type": "display_data"
    }
   ],
   "source": [
    "%matplotlib inline\n",
    "from matplotlib import pyplot as plt\n",
    "plt.hist([len(d) for d in indices_train])"
   ]
  },
  {
   "cell_type": "markdown",
   "metadata": {
    "id": "t34OuB9vv_VQ"
   },
   "source": [
    "The histogram shows that the longest question in the training data has 30 word indices, but by far most of the questions have at least 20. Based on this, use Keras' `pad_sequences` to vectorize the questions into sequences of 20 word indices. The default will be to truncate the beginning, but we want to truncate the end (since the first words of a question are often very important to determine the question type). For this you can use the option `truncating='post'`: https://keras.io/preprocessing/sequence/"
   ]
  },
  {
   "cell_type": "code",
   "execution_count": 22,
   "metadata": {
    "id": "15jgaUwpv_VS"
   },
   "outputs": [],
   "source": [
    "from tensorflow.keras.preprocessing.sequence import pad_sequences\n",
    "maxlen = 20\n",
    "x_train = pad_sequences(indices_train, maxlen=maxlen, truncating='post')\n",
    "x_devtest = pad_sequences(indices_devtest, maxlen=maxlen, truncating='post')\n",
    "x_test = pad_sequences(indices_test, maxlen=maxlen, truncating='post')"
   ]
  },
  {
   "cell_type": "markdown",
   "metadata": {
    "id": "Qn1vV1Kov_Vd"
   },
   "source": [
    "### Exercise: Vectorise the labels\n",
    "Convert the labels to one-hot encoding. If you use Keras' `to_categorical`, you will first need to convert the labels to integers."
   ]
  },
  {
   "cell_type": "code",
   "execution_count": 23,
   "metadata": {
    "id": "OfRBWqadv_Vh"
   },
   "outputs": [],
   "source": [
    "from tensorflow.keras.utils import to_categorical\n",
    "\n",
    "y_train = to_categorical([general_types.index(l) for l, t in q_train])\n",
    "y_devtest = to_categorical([general_types.index(l) for l, t in q_devtest])\n",
    "y_test = to_categorical([general_types.index(l) for l, t in q_test])"
   ]
  },
  {
   "cell_type": "markdown",
   "metadata": {
    "id": "iwNCab0Kv_Vs"
   },
   "source": [
    "### Exercise: Define the model\n",
    "\n",
    "Define a model for classification. For this model, use a feedforward architecture with an embedding layer of size 20, a layer that computes the average of word embeddings (use `GlobalAveragePooling1D`), a hidden layer of 16 units, and `relu` activation. You need to determine the size and activation of the output layer."
   ]
  },
  {
   "cell_type": "code",
   "execution_count": 24,
   "metadata": {
    "colab": {
     "base_uri": "https://localhost:8080/"
    },
    "id": "pBcT2-btv_Vu",
    "outputId": "22098ab0-dbe5-4a2d-fe0e-c455d571532a"
   },
   "outputs": [
    {
     "name": "stdout",
     "output_type": "stream",
     "text": [
      "Metal device set to: Apple M1\n",
      "Model: \"sequential\"\n",
      "_________________________________________________________________\n",
      " Layer (type)                Output Shape              Param #   \n",
      "=================================================================\n",
      " embedding (Embedding)       (None, 20, 20)            2000      \n",
      "                                                                 \n",
      " global_average_pooling1d (G  (None, 20)               0         \n",
      " lobalAveragePooling1D)                                          \n",
      "                                                                 \n",
      " dense (Dense)               (None, 16)                336       \n",
      "                                                                 \n",
      " dense_1 (Dense)             (None, 6)                 102       \n",
      "                                                                 \n",
      "=================================================================\n",
      "Total params: 2,438\n",
      "Trainable params: 2,438\n",
      "Non-trainable params: 0\n",
      "_________________________________________________________________\n"
     ]
    },
    {
     "name": "stderr",
     "output_type": "stream",
     "text": [
      "2023-05-08 13:28:34.548561: I tensorflow/core/common_runtime/pluggable_device/pluggable_device_factory.cc:305] Could not identify NUMA node of platform GPU ID 0, defaulting to 0. Your kernel may not have been built with NUMA support.\n",
      "2023-05-08 13:28:34.548833: I tensorflow/core/common_runtime/pluggable_device/pluggable_device_factory.cc:271] Created TensorFlow device (/job:localhost/replica:0/task:0/device:GPU:0 with 0 MB memory) -> physical PluggableDevice (device: 0, name: METAL, pci bus id: <undefined>)\n"
     ]
    }
   ],
   "source": [
    "from tensorflow.keras.models import Sequential\n",
    "from tensorflow.keras.layers import Embedding, Dense, GlobalAveragePooling1D\n",
    "\n",
    "embedding_dim = 20\n",
    "\n",
    "model = Sequential()\n",
    "model.add(Embedding(max_words, embedding_dim, input_length=maxlen))\n",
    "model.add(GlobalAveragePooling1D())\n",
    "model.add(Dense(16, activation='relu'))\n",
    "model.add(Dense(6, activation='softmax'))\n",
    "model.summary()"
   ]
  },
  {
   "cell_type": "markdown",
   "metadata": {
    "id": "CQxpGsUcv_V5"
   },
   "source": [
    "### Exercise: Train and evaluate\n",
    "Train your model. In the process you need to determine the optimal number of epochs. Then answer the following questions:\n",
    "1. What was the optimal number of epochs and how did you determine this?\n",
    "2. Is the system overfitting? Justify your answer."
   ]
  },
  {
   "cell_type": "code",
   "execution_count": 25,
   "metadata": {
    "colab": {
     "base_uri": "https://localhost:8080/"
    },
    "id": "8DfIKpyYv_V7",
    "outputId": "a88c6ac2-3174-44fd-c482-e1ef5f5abafc"
   },
   "outputs": [
    {
     "name": "stdout",
     "output_type": "stream",
     "text": [
      "Epoch 1/500\n"
     ]
    },
    {
     "name": "stderr",
     "output_type": "stream",
     "text": [
      "2023-05-08 13:28:34.803100: W tensorflow/core/platform/profile_utils/cpu_utils.cc:128] Failed to get CPU frequency: 0 Hz\n",
      "2023-05-08 13:28:35.108661: I tensorflow/core/grappler/optimizers/custom_graph_optimizer_registry.cc:113] Plugin optimizer for device_type GPU is enabled.\n"
     ]
    },
    {
     "name": "stdout",
     "output_type": "stream",
     "text": [
      "112/112 [==============================] - ETA: 0s - loss: 1.7176 - acc: 0.2450"
     ]
    },
    {
     "name": "stderr",
     "output_type": "stream",
     "text": [
      "2023-05-08 13:28:37.409071: I tensorflow/core/grappler/optimizers/custom_graph_optimizer_registry.cc:113] Plugin optimizer for device_type GPU is enabled.\n"
     ]
    },
    {
     "name": "stdout",
     "output_type": "stream",
     "text": [
      "112/112 [==============================] - 3s 21ms/step - loss: 1.7176 - acc: 0.2450 - val_loss: 1.6744 - val_acc: 0.2311\n",
      "Epoch 2/500\n",
      "112/112 [==============================] - 2s 16ms/step - loss: 1.6370 - acc: 0.2971 - val_loss: 1.6238 - val_acc: 0.3168\n",
      "Epoch 3/500\n",
      "112/112 [==============================] - 2s 17ms/step - loss: 1.5761 - acc: 0.3803 - val_loss: 1.5672 - val_acc: 0.3882\n",
      "Epoch 4/500\n",
      "112/112 [==============================] - 2s 17ms/step - loss: 1.5060 - acc: 0.4161 - val_loss: 1.4969 - val_acc: 0.4294\n",
      "Epoch 5/500\n",
      "112/112 [==============================] - 2s 16ms/step - loss: 1.4296 - acc: 0.4422 - val_loss: 1.4211 - val_acc: 0.4555\n",
      "Epoch 6/500\n",
      "112/112 [==============================] - 2s 16ms/step - loss: 1.3511 - acc: 0.4657 - val_loss: 1.3477 - val_acc: 0.4714\n",
      "Epoch 7/500\n",
      "112/112 [==============================] - 2s 16ms/step - loss: 1.2699 - acc: 0.5189 - val_loss: 1.2669 - val_acc: 0.5538\n",
      "Epoch 8/500\n",
      "112/112 [==============================] - 2s 16ms/step - loss: 1.1916 - acc: 0.5738 - val_loss: 1.2014 - val_acc: 0.5647\n",
      "Epoch 9/500\n",
      "112/112 [==============================] - 2s 16ms/step - loss: 1.1243 - acc: 0.5970 - val_loss: 1.1357 - val_acc: 0.5966\n",
      "Epoch 10/500\n",
      "112/112 [==============================] - 2s 16ms/step - loss: 1.0648 - acc: 0.6267 - val_loss: 1.0856 - val_acc: 0.6353\n",
      "Epoch 11/500\n",
      "112/112 [==============================] - 2s 17ms/step - loss: 1.0177 - acc: 0.6553 - val_loss: 1.0417 - val_acc: 0.6504\n",
      "Epoch 12/500\n",
      "112/112 [==============================] - 2s 16ms/step - loss: 0.9762 - acc: 0.6740 - val_loss: 1.0060 - val_acc: 0.6546\n",
      "Epoch 13/500\n",
      "112/112 [==============================] - 2s 16ms/step - loss: 0.9439 - acc: 0.6816 - val_loss: 0.9753 - val_acc: 0.6672\n",
      "Epoch 14/500\n",
      "112/112 [==============================] - 2s 16ms/step - loss: 0.9164 - acc: 0.6878 - val_loss: 0.9520 - val_acc: 0.6697\n",
      "Epoch 15/500\n",
      "112/112 [==============================] - 2s 17ms/step - loss: 0.8939 - acc: 0.6976 - val_loss: 0.9305 - val_acc: 0.6790\n",
      "Epoch 16/500\n",
      "112/112 [==============================] - 2s 17ms/step - loss: 0.8744 - acc: 0.6964 - val_loss: 0.9143 - val_acc: 0.6815\n",
      "Epoch 17/500\n",
      "112/112 [==============================] - 2s 20ms/step - loss: 0.8599 - acc: 0.7032 - val_loss: 0.8972 - val_acc: 0.6891\n",
      "Epoch 18/500\n",
      "112/112 [==============================] - 2s 16ms/step - loss: 0.8478 - acc: 0.7032 - val_loss: 0.8846 - val_acc: 0.6874\n",
      "Epoch 19/500\n",
      "112/112 [==============================] - 2s 21ms/step - loss: 0.8362 - acc: 0.7096 - val_loss: 0.8726 - val_acc: 0.6966\n",
      "Epoch 20/500\n",
      "112/112 [==============================] - 2s 15ms/step - loss: 0.8268 - acc: 0.7065 - val_loss: 0.8724 - val_acc: 0.6924\n",
      "Epoch 21/500\n",
      "112/112 [==============================] - 2s 16ms/step - loss: 0.8189 - acc: 0.7107 - val_loss: 0.8552 - val_acc: 0.6950\n",
      "Epoch 22/500\n",
      "112/112 [==============================] - 2s 17ms/step - loss: 0.8107 - acc: 0.7124 - val_loss: 0.8495 - val_acc: 0.7050\n",
      "Epoch 23/500\n",
      "112/112 [==============================] - 2s 17ms/step - loss: 0.8048 - acc: 0.7172 - val_loss: 0.8427 - val_acc: 0.7076\n",
      "Epoch 24/500\n",
      "112/112 [==============================] - 2s 18ms/step - loss: 0.7984 - acc: 0.7138 - val_loss: 0.8402 - val_acc: 0.7092\n",
      "Epoch 25/500\n",
      "112/112 [==============================] - 2s 17ms/step - loss: 0.7923 - acc: 0.7180 - val_loss: 0.8378 - val_acc: 0.7042\n",
      "Epoch 26/500\n",
      "112/112 [==============================] - 2s 17ms/step - loss: 0.7875 - acc: 0.7205 - val_loss: 0.8265 - val_acc: 0.7134\n",
      "Epoch 27/500\n",
      "112/112 [==============================] - 2s 17ms/step - loss: 0.7813 - acc: 0.7202 - val_loss: 0.8212 - val_acc: 0.7118\n",
      "Epoch 28/500\n",
      "112/112 [==============================] - 2s 17ms/step - loss: 0.7762 - acc: 0.7222 - val_loss: 0.8171 - val_acc: 0.7084\n",
      "Epoch 29/500\n",
      "112/112 [==============================] - 2s 17ms/step - loss: 0.7725 - acc: 0.7270 - val_loss: 0.8098 - val_acc: 0.7134\n",
      "Epoch 30/500\n",
      "112/112 [==============================] - 2s 16ms/step - loss: 0.7674 - acc: 0.7225 - val_loss: 0.8151 - val_acc: 0.7168\n",
      "Epoch 31/500\n",
      "112/112 [==============================] - 2s 16ms/step - loss: 0.7623 - acc: 0.7261 - val_loss: 0.8098 - val_acc: 0.7059\n",
      "Epoch 32/500\n",
      "112/112 [==============================] - 2s 17ms/step - loss: 0.7589 - acc: 0.7295 - val_loss: 0.8011 - val_acc: 0.7160\n",
      "Epoch 33/500\n",
      "112/112 [==============================] - 2s 17ms/step - loss: 0.7548 - acc: 0.7275 - val_loss: 0.7964 - val_acc: 0.7227\n",
      "Epoch 34/500\n",
      "112/112 [==============================] - 2s 16ms/step - loss: 0.7524 - acc: 0.7275 - val_loss: 0.7937 - val_acc: 0.7193\n",
      "Epoch 35/500\n",
      "112/112 [==============================] - 2s 17ms/step - loss: 0.7480 - acc: 0.7298 - val_loss: 0.7939 - val_acc: 0.7168\n",
      "Epoch 36/500\n",
      "112/112 [==============================] - 2s 16ms/step - loss: 0.7450 - acc: 0.7309 - val_loss: 0.7885 - val_acc: 0.7160\n",
      "Epoch 37/500\n",
      "112/112 [==============================] - 2s 17ms/step - loss: 0.7419 - acc: 0.7320 - val_loss: 0.7883 - val_acc: 0.7210\n",
      "Epoch 38/500\n",
      "112/112 [==============================] - 2s 19ms/step - loss: 0.7373 - acc: 0.7306 - val_loss: 0.7836 - val_acc: 0.7185\n",
      "Epoch 39/500\n",
      "112/112 [==============================] - 2s 16ms/step - loss: 0.7343 - acc: 0.7278 - val_loss: 0.7829 - val_acc: 0.7168\n",
      "Epoch 40/500\n",
      "112/112 [==============================] - 2s 16ms/step - loss: 0.7335 - acc: 0.7306 - val_loss: 0.7805 - val_acc: 0.7151\n",
      "Epoch 41/500\n",
      "112/112 [==============================] - 2s 16ms/step - loss: 0.7285 - acc: 0.7331 - val_loss: 0.7867 - val_acc: 0.7076\n",
      "Epoch 42/500\n",
      "112/112 [==============================] - 2s 16ms/step - loss: 0.7276 - acc: 0.7342 - val_loss: 0.7808 - val_acc: 0.7202\n"
     ]
    }
   ],
   "source": [
    "from tensorflow.keras.callbacks import EarlyStopping\n",
    "\n",
    "model.compile(optimizer='rmsprop',\n",
    "              loss='categorical_crossentropy',\n",
    "              metrics=['acc'])\n",
    "history = model.fit(x_train, y_train,\n",
    "                    epochs=500,\n",
    "                    batch_size=32,\n",
    "                    validation_data=(x_devtest, y_devtest),\n",
    "                    callbacks=[EarlyStopping(monitor='val_loss', mode='min', patience=2)])"
   ]
  },
  {
   "cell_type": "code",
   "execution_count": 26,
   "metadata": {
    "colab": {
     "base_uri": "https://localhost:8080/",
     "height": 295
    },
    "id": "yaVdjCqEv_WD",
    "outputId": "487917fd-53ed-403e-98c8-6733ea181a47"
   },
   "outputs": [
    {
     "data": {
      "image/png": "[encoded data removed]",
      "text/plain": [
       "<Figure size 640x480 with 1 Axes>"
      ]
     },
     "metadata": {},
     "output_type": "display_data"
    }
   ],
   "source": [
    "loss = history.history['loss']\n",
    "val_loss = history.history['val_loss']\n",
    "\n",
    "epochs = range(1, len(loss) + 1)\n",
    "\n",
    "plt.plot(epochs, loss, 'bo', label='Training loss')\n",
    "plt.plot(epochs, val_loss, 'b', label='Validation loss')\n",
    "plt.title('Training and validation loss')\n",
    "plt.xlabel('Epochs')\n",
    "plt.ylabel('Loss')\n",
    "plt.legend()\n",
    "\n",
    "plt.show()"
   ]
  },
  {
   "cell_type": "markdown",
   "metadata": {
    "id": "LKu0AEYCv_WN"
   },
   "source": [
    "Based on the validation loss, a good value of epochs is 41. At this point the system is overfitting already but the validation loss appears to be optimal. Let's check with the accuracy as well:"
   ]
  },
  {
   "cell_type": "code",
   "execution_count": 27,
   "metadata": {
    "colab": {
     "base_uri": "https://localhost:8080/",
     "height": 295
    },
    "id": "1rDfPPOxv_WP",
    "outputId": "7a08cde7-5b3f-43df-eb45-450221653783"
   },
   "outputs": [
    {
     "data": {
      "image/png": "[encoded data removed]",
      "text/plain": [
       "<Figure size 640x480 with 1 Axes>"
      ]
     },
     "metadata": {},
     "output_type": "display_data"
    }
   ],
   "source": [
    "plt.clf()   # clear figure\n",
    "\n",
    "acc = history.history['acc']\n",
    "val_acc = history.history['val_acc']\n",
    "\n",
    "plt.plot(epochs, acc, 'bo', label='Training acc')\n",
    "plt.plot(epochs, val_acc, 'b', label='Validation acc')\n",
    "plt.title('Training and validation accuracy')\n",
    "plt.xlabel('Epochs')\n",
    "plt.ylabel('Loss')\n",
    "plt.legend()\n",
    "\n",
    "plt.show()"
   ]
  },
  {
   "cell_type": "markdown",
   "metadata": {
    "id": "H_M6drwCv_WY"
   },
   "source": [
    "Yes accuracy looks near optimal at 41 epochs."
   ]
  },
  {
   "cell_type": "markdown",
   "metadata": {
    "id": "AbK8NkhRv_Wb"
   },
   "source": [
    "### Optional Exercise: Data exploration\n",
    "Plot the distribution of labels in the training data and compare with the distribution of labels in the devtest data. Plot also the distribution of predictions in the devtest data. What can you learn from this?"
   ]
  },
  {
   "cell_type": "code",
   "execution_count": 28,
   "metadata": {
    "colab": {
     "base_uri": "https://localhost:8080/"
    },
    "id": "ZYWeFIznv_Wg",
    "outputId": "e1a6df13-88b3-4d2a-9dc0-b46fa34df8a3"
   },
   "outputs": [
    {
     "data": {
      "text/plain": [
       "Counter({'DESC': 806,\n",
       "         'LOC': 548,\n",
       "         'HUM': 737,\n",
       "         'NUM': 629,\n",
       "         'ENTY': 804,\n",
       "         'ABBR': 47})"
      ]
     },
     "execution_count": 28,
     "metadata": {},
     "output_type": "execute_result"
    }
   ],
   "source": [
    "from collections import Counter\n",
    "counter_train_labels = Counter([l for l, t in q_train])\n",
    "counter_train_labels"
   ]
  },
  {
   "cell_type": "code",
   "execution_count": 29,
   "metadata": {
    "colab": {
     "base_uri": "https://localhost:8080/",
     "height": 283
    },
    "id": "N56xRMjiv_Wn",
    "outputId": "ec108cb6-bfe4-45a0-b098-3cc2193f51bb"
   },
   "outputs": [
    {
     "data": {
      "text/plain": [
       "<BarContainer object of 6 artists>"
      ]
     },
     "execution_count": 29,
     "metadata": {},
     "output_type": "execute_result"
    },
    {
     "data": {
      "image/png": "[encoded data removed]",
      "text/plain": [
       "<Figure size 640x480 with 1 Axes>"
      ]
     },
     "metadata": {},
     "output_type": "display_data"
    }
   ],
   "source": [
    "plt.bar(general_types, [counter_train_labels[l] for l in general_types])"
   ]
  },
  {
   "cell_type": "code",
   "execution_count": 30,
   "metadata": {
    "colab": {
     "base_uri": "https://localhost:8080/"
    },
    "id": "ONeUnyw9v_Wv",
    "outputId": "69894ddf-958d-4d88-f29d-885058e74fdc"
   },
   "outputs": [
    {
     "data": {
      "text/plain": [
       "Counter({'ENTY': 260,\n",
       "         'NUM': 190,\n",
       "         'HUM': 275,\n",
       "         'LOC': 182,\n",
       "         'DESC': 256,\n",
       "         'ABBR': 27})"
      ]
     },
     "execution_count": 30,
     "metadata": {},
     "output_type": "execute_result"
    }
   ],
   "source": [
    "counter_devtest_labels = Counter([l for l, t in q_devtest])\n",
    "counter_devtest_labels"
   ]
  },
  {
   "cell_type": "code",
   "execution_count": 31,
   "metadata": {
    "colab": {
     "base_uri": "https://localhost:8080/",
     "height": 283
    },
    "id": "z7V9rm_lv_W3",
    "outputId": "9a9d4630-cd55-43f0-cc4a-04f0f0966521"
   },
   "outputs": [
    {
     "data": {
      "text/plain": [
       "<BarContainer object of 6 artists>"
      ]
     },
     "execution_count": 31,
     "metadata": {},
     "output_type": "execute_result"
    },
    {
     "data": {
      "image/png": "[encoded data removed]",
      "text/plain": [
       "<Figure size 640x480 with 1 Axes>"
      ]
     },
     "metadata": {},
     "output_type": "display_data"
    }
   ],
   "source": [
    "plt.bar(general_types, [counter_devtest_labels[l] for l in general_types])"
   ]
  },
  {
   "cell_type": "markdown",
   "metadata": {
    "id": "USV5vlpNv_XB"
   },
   "source": [
    "The training and devtest sets have similar distributions. The data is somewhat balanced except for the `ABBR` class."
   ]
  },
  {
   "cell_type": "code",
   "execution_count": 32,
   "metadata": {
    "id": "D7PTmPIFv_XD"
   },
   "outputs": [
    {
     "name": "stdout",
     "output_type": "stream",
     "text": [
      "38/38 [==============================] - 0s 3ms/step\n"
     ]
    },
    {
     "name": "stderr",
     "output_type": "stream",
     "text": [
      "2023-05-08 13:29:55.072055: I tensorflow/core/grappler/optimizers/custom_graph_optimizer_registry.cc:113] Plugin optimizer for device_type GPU is enabled.\n"
     ]
    }
   ],
   "source": [
    "from numpy import argmax\n",
    "devtest_predictions_probs = model.predict(x_devtest)\n",
    "devtest_predictions = [argmax(r) for r in devtest_predictions_probs]\n",
    "devtest_predictions_labels = [general_types[i] for i in devtest_predictions]"
   ]
  },
  {
   "cell_type": "code",
   "execution_count": 33,
   "metadata": {
    "colab": {
     "base_uri": "https://localhost:8080/"
    },
    "id": "nbW2nOh7v_XJ",
    "outputId": "12815044-3710-4f4f-8c1c-8bd74502de87"
   },
   "outputs": [
    {
     "data": {
      "text/plain": [
       "Counter({'HUM': 217, 'ENTY': 336, 'NUM': 146, 'LOC': 158, 'DESC': 333})"
      ]
     },
     "execution_count": 33,
     "metadata": {},
     "output_type": "execute_result"
    }
   ],
   "source": [
    "counter_devtest_predictions = Counter(devtest_predictions_labels)\n",
    "counter_devtest_predictions"
   ]
  },
  {
   "cell_type": "code",
   "execution_count": 34,
   "metadata": {
    "colab": {
     "base_uri": "https://localhost:8080/",
     "height": 283
    },
    "id": "qVxL8ADAv_XV",
    "outputId": "69cb9608-a0e3-4be9-830b-44016693ca38"
   },
   "outputs": [
    {
     "data": {
      "text/plain": [
       "<BarContainer object of 6 artists>"
      ]
     },
     "execution_count": 34,
     "metadata": {},
     "output_type": "execute_result"
    },
    {
     "data": {
      "image/png": "[encoded data removed]",
      "text/plain": [
       "<Figure size 640x480 with 1 Axes>"
      ]
     },
     "metadata": {},
     "output_type": "display_data"
    }
   ],
   "source": [
    "plt.bar(general_types, [counter_devtest_predictions[l] for l in general_types])"
   ]
  },
  {
   "cell_type": "markdown",
   "metadata": {
    "id": "7GA8W2g1v_Xf"
   },
   "source": [
    "The predicted labels have a different distribution to the labels of the training and devtest data, and there are no predictions for the ABBR class. This is a common issue. Sometimes, the system does not learn classes that have poor representation in the training data."
   ]
  },
  {
   "cell_type": "markdown",
   "metadata": {
    "id": "ySiHuaA450dL"
   },
   "source": []
  },
  {
   "cell_type": "markdown",
   "metadata": {
    "id": "QOUTCrdqv_Xi"
   },
   "source": [
    "### Optional Exercise: Improve your system\n",
    "\n",
    "Try the following options:\n",
    "\n",
    "1. Use pre-trained word embeddings\n",
    "2. Use recurrent neural networks.\n",
    "\n",
    "Feel free to try each option separately and in combination, and compare the results. Feel also free to try with other variants of the initial architecture, such as:\n",
    "\n",
    "1. Introducing more hidden layers.\n",
    "2. Changing the size of embeddings.\n",
    "3. Changing the number of units in the hidden layer(s)."
   ]
  },
  {
   "cell_type": "code",
   "execution_count": null,
   "metadata": {
    "id": "6Q-1GtYOv_Xl"
   },
   "outputs": [],
   "source": []
  }
 ],
 "metadata": {
  "anaconda-cloud": {},
  "colab": {
   "collapsed_sections": [],
   "name": "W05_Practical_Solution.ipynb",
   "provenance": []
  },
  "kernelspec": {
   "display_name": "Python 3 (ipykernel)",
   "language": "python",
   "name": "python3"
  },
  "language_info": {
   "codemirror_mode": {
    "name": "ipython",
    "version": 3
   },
   "file_extension": ".py",
   "mimetype": "text/x-python",
   "name": "python",
   "nbconvert_exporter": "python",
   "pygments_lexer": "ipython3",
   "version": "3.10.9"
  }
 },
 "nbformat": 4,
 "nbformat_minor": 1
}
