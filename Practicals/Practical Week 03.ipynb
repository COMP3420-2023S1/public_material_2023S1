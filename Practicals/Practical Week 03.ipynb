{
 "cells": [
  {
   "attachments": {},
   "cell_type": "markdown",
   "metadata": {},
   "source": [
    "# 1. Connect to github classroom\n",
    "\n",
    "Some of the assignments in this unit will be managed via GitHub classroom. Please follow these steps to connect:\n",
    "\n",
    "1. Follow this invitation link and accept the invitation: https://classroom.github.com/a/xqxsP3H1\n",
    "2. The link may ask you to sign in to GitHub (if you haven't signed in earlier). If you don't have a GitHub account, you will need to register.\n",
    "3. Once you have logged in with GitHub, you may need to select your email address to associate your GitHub account with your email address (if you haven't done it in a previous COMP3420 activity). If you can't find your email address, please skip this step and contact diego.molla-aliod@mq.edu.au so that he can do the association manually.\n",
    "4. Wait a minute or two, and refresh the browser until it indicates that your assignment repository has been created. Your repository is private to you, and you have administration privileges. Only you and the lecture will have access to it. The repository will be listed under the list of repositories belonging to this offering of COMP3420: https://github.com/orgs/COMP3420-2023S1/repositories\n",
    "5. Your assignment repository will include starter code that you can use for the exercises below. Clone your repository into a folder in your computer.\n",
    "\n",
    "This practical has two kinds of exercises:\n",
    "\n",
    "1. **Implement functions and upload the implementation to github classroom**. The exercises will have associated automated tests. To run these tests, please commit your changes and push the changes to your repository. This will initiate the automated tests, and you will receive the test results. There are no marks associated with these tests, but they will help you get used to the environment that you will use for the assignments.\n",
    "2. **Analyse the data, train and evaluate image classifiers.** These exercises do not have automated tests but they will help you practice with the kinds of tasks that you will need to do in assignments 2 and 3.\n",
    "\n",
    "# 1. Convolution\n",
    "\n",
    "The following code uses OpenCV's filter2D to define a convolution filter. You can read a tutorial that demonstrates the use of OpenCV's filter2D here:\n",
    "  - [Tutorial filter 2D](https://docs.opencv.org/3.4/d4/dbd/tutorial_filter_2d.html)"
   ]
  },
  {
   "cell_type": "code",
   "execution_count": 1,
   "metadata": {},
   "outputs": [],
   "source": [
    "import cv2\n",
    "import numpy as np\n",
    "def convolution_filter(image, kernel):\n",
    "    return cv2.filter2D(image, -1, kernel)\n"
   ]
  },
  {
   "attachments": {},
   "cell_type": "markdown",
   "metadata": {},
   "source": [
    "Below is an example of use of this filter for the first training sample of the MNIST dataset."
   ]
  },
  {
   "cell_type": "code",
   "execution_count": 2,
   "metadata": {},
   "outputs": [
    {
     "name": "stderr",
     "output_type": "stream",
     "text": [
      "2023-03-02 15:00:55.222665: I tensorflow/core/platform/cpu_feature_guard.cc:193] This TensorFlow binary is optimized with oneAPI Deep Neural Network Library (oneDNN) to use the following CPU instructions in performance-critical operations:  AVX2 FMA\n",
      "To enable them in other operations, rebuild TensorFlow with the appropriate compiler flags.\n",
      "2023-03-02 15:00:56.317174: W tensorflow/compiler/xla/stream_executor/platform/default/dso_loader.cc:64] Could not load dynamic library 'libnvinfer.so.7'; dlerror: libnvrtc.so.11.0: cannot open shared object file: No such file or directory; LD_LIBRARY_PATH: /home/diego/anaconda3/envs/comp3420/lib/python3.9/site-packages/cv2/../../../../lib::/home/diego/anaconda3/lib/:/home/diego/anaconda3/lib/:/home/diego/anaconda3/envs/comp3420/lib/\n",
      "2023-03-02 15:00:56.317337: W tensorflow/compiler/xla/stream_executor/platform/default/dso_loader.cc:64] Could not load dynamic library 'libnvinfer_plugin.so.7'; dlerror: libnvinfer_plugin.so.7: cannot open shared object file: No such file or directory; LD_LIBRARY_PATH: /home/diego/anaconda3/envs/comp3420/lib/python3.9/site-packages/cv2/../../../../lib::/home/diego/anaconda3/lib/:/home/diego/anaconda3/lib/:/home/diego/anaconda3/envs/comp3420/lib/\n",
      "2023-03-02 15:00:56.317349: W tensorflow/compiler/tf2tensorrt/utils/py_utils.cc:38] TF-TRT Warning: Cannot dlopen some TensorRT libraries. If you would like to use Nvidia GPU with TensorRT, please make sure the missing libraries mentioned above are installed properly.\n"
     ]
    }
   ],
   "source": [
    "from tensorflow.keras.datasets import mnist\n",
    "(train_images, train_labels), (test_images, test_labels) = mnist.load_data()"
   ]
  },
  {
   "cell_type": "code",
   "execution_count": 3,
   "metadata": {},
   "outputs": [],
   "source": [
    "kernel = np.array([[-1, -1, -1],\n",
    "                   [-1, 8, -1],\n",
    "                   [-1, -1, -1]])\n",
    "result = convolution_filter(train_images[0], kernel)"
   ]
  },
  {
   "cell_type": "code",
   "execution_count": 4,
   "metadata": {},
   "outputs": [
    {
     "data": {
      "text/plain": [
       "<matplotlib.image.AxesImage at 0x7fe47d091af0>"
      ]
     },
     "execution_count": 4,
     "metadata": {},
     "output_type": "execute_result"
    },
    {
     "data": {
      "image/png": "[encoded data removed]",
      "text/plain": [
       "<Figure size 640x480 with 1 Axes>"
      ]
     },
     "metadata": {},
     "output_type": "display_data"
    }
   ],
   "source": [
    "from matplotlib import pyplot as plt\n",
    "plt.imshow(train_images[0], cmap='gray')"
   ]
  },
  {
   "cell_type": "code",
   "execution_count": 5,
   "metadata": {},
   "outputs": [
    {
     "data": {
      "text/plain": [
       "<matplotlib.image.AxesImage at 0x7fe474fa5fd0>"
      ]
     },
     "execution_count": 5,
     "metadata": {},
     "output_type": "execute_result"
    },
    {
     "data": {
      "image/png": "[encoded data removed]",
      "text/plain": [
       "<Figure size 640x480 with 1 Axes>"
      ]
     },
     "metadata": {},
     "output_type": "display_data"
    }
   ],
   "source": [
    "plt.imshow(result, cmap='gray')"
   ]
  },
  {
   "attachments": {},
   "cell_type": "markdown",
   "metadata": {},
   "source": [
    "Now it is your turn. Try several convolution kernels in the following images:\n",
    "- [stickanimals.jpg](stickanimals.jpg) <img src=\"stickanimals.jpg\" width=\"200\" height=\"200\">\n",
    "- [stickanimalsGray.png](stickanimalsGray.png) <img src=\"stickanimalsGray.png\" width=\"200\" height=\"200\">\n",
    "\n",
    "Try, for example, these kernels:\n",
    "- Edge detection: `np.array([[-1, -1, -1],\n",
    "             [-1, 8, -1],\n",
    "             [-1, -1, -1]])`\n",
    "- Sharpen: `np.array([[0, -1, 0],\n",
    "             [-1, 5, -1],\n",
    "             [0, -1, 0]])`\n",
    "- Blur: `np.array([[1/9, 1/9, 1/9],\n",
    "             [1/9, 1/9, 1/9],\n",
    "             [1/9, 1/9, 1/9]])`"
   ]
  },
  {
   "cell_type": "code",
   "execution_count": null,
   "metadata": {},
   "outputs": [],
   "source": []
  },
  {
   "attachments": {},
   "cell_type": "markdown",
   "metadata": {},
   "source": [
    "# 2 Convolutions to classify digits\n",
    "\n",
    "## 2.1 Implement the convolutions\n",
    "\n",
    "Write a function `build_mnist_conv_model` that returns a Keras model that uses convolutions to classify the MNIST data. The resulting model must contain a sequence of convolution layers followed by MaxPooling. After this sequence of convolution + MaxPooling, the model must have a Flatten layer and the final classification layer. \n",
    "\n",
    "The function has the following parameters:\n",
    "- `num_convolutions`: The number of convolution+MaxPooling.\n",
    "- `num_filters`: A list that contains the number of filters in each convolution\n",
    "- `kernel_sizes`: A list that contains the kernel size of each convolution layer.\n",
    "- `pool_sizes`: A list that contains the pool sizes. If the value is 0, then there is no MaxPooling layer. \n",
    "\n",
    "An example of usage of this function is:"
   ]
  },
  {
   "cell_type": "code",
   "execution_count": 6,
   "metadata": {},
   "outputs": [
    {
     "name": "stderr",
     "output_type": "stream",
     "text": [
      "2023-03-02 15:03:58.217824: I tensorflow/compiler/xla/stream_executor/cuda/cuda_gpu_executor.cc:981] successful NUMA node read from SysFS had negative value (-1), but there must be at least one NUMA node, so returning NUMA node zero\n",
      "2023-03-02 15:03:58.230770: I tensorflow/compiler/xla/stream_executor/cuda/cuda_gpu_executor.cc:981] successful NUMA node read from SysFS had negative value (-1), but there must be at least one NUMA node, so returning NUMA node zero\n",
      "2023-03-02 15:03:58.231948: I tensorflow/compiler/xla/stream_executor/cuda/cuda_gpu_executor.cc:981] successful NUMA node read from SysFS had negative value (-1), but there must be at least one NUMA node, so returning NUMA node zero\n",
      "2023-03-02 15:03:58.233835: I tensorflow/core/platform/cpu_feature_guard.cc:193] This TensorFlow binary is optimized with oneAPI Deep Neural Network Library (oneDNN) to use the following CPU instructions in performance-critical operations:  AVX2 FMA\n",
      "To enable them in other operations, rebuild TensorFlow with the appropriate compiler flags.\n",
      "2023-03-02 15:03:58.234567: I tensorflow/compiler/xla/stream_executor/cuda/cuda_gpu_executor.cc:981] successful NUMA node read from SysFS had negative value (-1), but there must be at least one NUMA node, so returning NUMA node zero\n",
      "2023-03-02 15:03:58.235787: I tensorflow/compiler/xla/stream_executor/cuda/cuda_gpu_executor.cc:981] successful NUMA node read from SysFS had negative value (-1), but there must be at least one NUMA node, so returning NUMA node zero\n",
      "2023-03-02 15:03:58.236928: I tensorflow/compiler/xla/stream_executor/cuda/cuda_gpu_executor.cc:981] successful NUMA node read from SysFS had negative value (-1), but there must be at least one NUMA node, so returning NUMA node zero\n",
      "2023-03-02 15:03:59.097806: I tensorflow/compiler/xla/stream_executor/cuda/cuda_gpu_executor.cc:981] successful NUMA node read from SysFS had negative value (-1), but there must be at least one NUMA node, so returning NUMA node zero\n",
      "2023-03-02 15:03:59.098674: I tensorflow/compiler/xla/stream_executor/cuda/cuda_gpu_executor.cc:981] successful NUMA node read from SysFS had negative value (-1), but there must be at least one NUMA node, so returning NUMA node zero\n",
      "2023-03-02 15:03:59.099269: I tensorflow/compiler/xla/stream_executor/cuda/cuda_gpu_executor.cc:981] successful NUMA node read from SysFS had negative value (-1), but there must be at least one NUMA node, so returning NUMA node zero\n",
      "2023-03-02 15:03:59.099789: I tensorflow/core/common_runtime/gpu/gpu_device.cc:1613] Created device /job:localhost/replica:0/task:0/device:GPU:0 with 9066 MB memory:  -> device: 0, name: NVIDIA GeForce RTX 2080 Ti, pci bus id: 0000:01:00.0, compute capability: 7.5\n"
     ]
    },
    {
     "name": "stdout",
     "output_type": "stream",
     "text": [
      "Model: \"sequential\"\n",
      "_________________________________________________________________\n",
      " Layer (type)                Output Shape              Param #   \n",
      "=================================================================\n",
      " conv2d (Conv2D)             (None, 26, 26, 32)        320       \n",
      "                                                                 \n",
      " max_pooling2d (MaxPooling2D  (None, 13, 13, 32)       0         \n",
      " )                                                               \n",
      "                                                                 \n",
      " conv2d_1 (Conv2D)           (None, 11, 11, 64)        18496     \n",
      "                                                                 \n",
      " max_pooling2d_1 (MaxPooling  (None, 5, 5, 64)         0         \n",
      " 2D)                                                             \n",
      "                                                                 \n",
      " conv2d_2 (Conv2D)           (None, 3, 3, 128)         73856     \n",
      "                                                                 \n",
      " flatten (Flatten)           (None, 1152)              0         \n",
      "                                                                 \n",
      " dense (Dense)               (None, 10)                11530     \n",
      "                                                                 \n",
      "=================================================================\n",
      "Total params: 104,202\n",
      "Trainable params: 104,202\n",
      "Non-trainable params: 0\n",
      "_________________________________________________________________\n"
     ]
    }
   ],
   "source": [
    "import week3\n",
    "mnist_conv_model = week3.build_mnist_conv_model(3, [32,64,128], [3,3,3], [2,2,0])\n",
    "mnist_conv_model.summary()"
   ]
  },
  {
   "attachments": {},
   "cell_type": "markdown",
   "metadata": {},
   "source": [
    "With the help of this function, try different parameters and determine what is the optimal architecture. Feel free to use `keras-tuner` as we have seen in the lecture notebooks. Answer the following questions:\n",
    "\n",
    "1. What are the optimal hyperparameters?\n",
    "2. Does the model overfit? How can you determine whether it is overfitting?"
   ]
  },
  {
   "attachments": {},
   "cell_type": "markdown",
   "metadata": {},
   "source": [
    "## 2.2 Error Analysis\n",
    "\n",
    "Write a function `count_classification_errors` that counts all kinds of classification errors and returns the counts. An example of use is:"
   ]
  },
  {
   "cell_type": "code",
   "execution_count": 7,
   "metadata": {},
   "outputs": [
    {
     "data": {
      "text/plain": [
       "{'daisy->sunflower': 2, 'sunflower->tulip': 2, 'tulip->daisy': 1}"
      ]
     },
     "execution_count": 7,
     "metadata": {},
     "output_type": "execute_result"
    }
   ],
   "source": [
    "import week3\n",
    "\n",
    "targets = ['daisy','daisy','sunflower','tulip','daisy','sunflower']\n",
    "predictions = ['daisy','sunflower','tulip','daisy','sunflower','tulip']\n",
    "week3.count_classification_errors(targets, predictions)"
   ]
  },
  {
   "attachments": {},
   "cell_type": "markdown",
   "metadata": {},
   "source": [
    "With this function: \n",
    "1. Can you identify the most common errors of classification?\n",
    "2. Explore examples that have classification errors. Can you identify the possible reason for the errors?"
   ]
  },
  {
   "attachments": {},
   "cell_type": "markdown",
   "metadata": {},
   "source": [
    "# (Optional) 3. Classify flowers\n",
    "\n",
    "Adapt the code from above to implement a convolutional classifier for the Flowers data set:\n",
    "\n",
    " - [flower_photos.zip](https://drive.google.com/file/d/1pZNVfvi9iJRjS6fXFF3om7pp8Gp-AZtM/view?usp=share_link)\n",
    "\n",
    "With that code, answer the following questions:\n",
    "\n",
    "1. Is the convolutional network architecture that was optimal for the MNIST dataset, also optimal for the flowers dataset?\n",
    "2. What are the most common errors of classification in the flowers dataset?\n",
    "3. After examining the errors of classification, can you identify the possible reason for the errors?"
   ]
  },
  {
   "cell_type": "markdown",
   "metadata": {},
   "source": []
  }
 ],
 "metadata": {
  "anaconda-cloud": {},
  "kernelspec": {
   "display_name": "comp3420",
   "language": "python",
   "name": "python3"
  },
  "language_info": {
   "codemirror_mode": {
    "name": "ipython",
    "version": 3
   },
   "file_extension": ".py",
   "mimetype": "text/x-python",
   "name": "python",
   "nbconvert_exporter": "python",
   "pygments_lexer": "ipython3",
   "version": "3.9.16"
  },
  "vscode": {
   "interpreter": {
    "hash": "c02f33083e7812b9e1e2691d902fc78cd9db9629fd265ab84f982d3fd9e6cdd0"
   }
  }
 },
 "nbformat": 4,
 "nbformat_minor": 2
}
