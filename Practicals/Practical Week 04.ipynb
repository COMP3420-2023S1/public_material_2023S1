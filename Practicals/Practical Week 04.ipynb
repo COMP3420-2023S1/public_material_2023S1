{
 "cells": [
  {
   "attachments": {},
   "cell_type": "markdown",
   "metadata": {},
   "source": [
    "# 1. Connect to github classroom\n",
    "\n",
    "Some of the assignments in this unit will be managed via GitHub classroom. Please follow these steps to connect:\n",
    "\n",
    "1. Follow this invitation link and accept the invitation: https://classroom.github.com/a/Sk3hdgvB\n",
    "2. The link may ask you to sign in to GitHub (if you haven't signed in earlier). If you don't have a GitHub account, you will need to register.\n",
    "3. Once you have logged in with GitHub, you may need to select your email address to associate your GitHub account with your email address (if you haven't done it in a previous COMP3420 activity). If you can't find your email address, please skip this step and contact diego.molla-aliod@mq.edu.au so that he can do the association manually.\n",
    "4. Wait a minute or two, and refresh the browser until it indicates that your assignment repository has been created. Your repository is private to you, and you have administration privileges. Only you and the lecture will have access to it. The repository will be listed under the list of repositories belonging to this offering of COMP3420: https://github.com/orgs/COMP3420-2023S1/repositories\n",
    "5. Your assignment repository will include starter code that you can use for the exercises below. Clone your repository into a folder in your computer.\n",
    "\n",
    "This practical has two kinds of exercises:\n",
    "\n",
    "1. **Implement functions and upload the implementation to github classroom**. The exercises will have associated automated tests. To run these tests, please commit your changes and push the changes to your repository. This will initiate the automated tests, and you will receive the test results. There are no marks associated with these tests, but they will help you get used to the environment that you will use for the assignments.\n",
    "2. **Analyse the data, train and evaluate image classifiers.** These exercises do not have automated tests but they will help you practice with the kinds of tasks that you will need to do in assignments 2 and 3.\n",
    "\n",
    "# 2. Data Preparation\n",
    "\n",
    "As training for assignment 2, let's prepare a collection images for processing by a convolutional network.\n",
    "\n",
    "1. Download and unzip the CIFAR10 dataset **hosted by kaggle**. CIFAR10 is a very popular dataset with 60,000 32x32 colour images distributed evenly across 10 classes. The dataset is included in the TensorFlow library, but we will download and prepare it, for practice for assignment 2.\n",
    "    - [CIFAR10 dataset](https://www.cs.toronto.edu/~kriz/cifar.html).\n",
    "2. Run the following code. This code converts the downloaded data into image files that will be stored in two folders:\n",
    "    - `cifar_images_train`\n",
    "    - `cifar_images_test`"
   ]
  },
  {
   "cell_type": "code",
   "execution_count": 1,
   "metadata": {},
   "outputs": [],
   "source": [
    "# Based on output of Bing chat query: \"write python code that converts CIFAR-10 data to image files. The code should use matplotlib to convert the data into images.\"\n",
    "import numpy as np\n",
    "import os\n",
    "import pickle\n",
    "from matplotlib import pyplot as plt\n",
    "\n",
    "def unpickle(file):\n",
    "    with open(file, 'rb') as fo:\n",
    "        dict = pickle.load(fo, encoding='bytes')\n",
    "    return dict\n",
    "\n",
    "def save_images_from_dict(dict, folder):\n",
    "    for i in range(len(dict[b'data'])):\n",
    "        flat_image = dict[b'data'][i]\n",
    "        image = np.transpose(np.reshape(flat_image,(3, 32,32)), (1,2,0))\n",
    "        label = dict[b'labels'][i]\n",
    "        filename = f\"{folder}/{label}_{i}.png\"\n",
    "        plt.imsave(filename,image)\n",
    "\n",
    "data_folder = \"cifar-10-batches-py\"\n",
    "output_folder = \"cifar_images\"\n",
    "\n",
    "if not os.path.exists(output_folder+\"_train\"):\n",
    "    os.makedirs(output_folder+\"_train\")\n",
    "if not os.path.exists(output_folder+\"_test\"):\n",
    "    os.makedirs(output_folder+\"_test\")\n",
    "\n",
    "for batch in range(1,6):\n",
    "    batch_file = f\"{data_folder}/data_batch_{batch}\"\n",
    "    batch_dict = unpickle(batch_file)\n",
    "    save_images_from_dict(batch_dict,output_folder+\"_train\")\n",
    "\n",
    "test_file = f\"{data_folder}/test_batch\"\n",
    "test_dict = unpickle(test_file)\n",
    "save_images_from_dict(test_dict,output_folder+\"_test\")"
   ]
  },
  {
   "attachments": {},
   "cell_type": "markdown",
   "metadata": {},
   "source": [
    "3. Inspect the resulting image files. You will see that the filenames are of the form `label_imagenumber.png`. For your reference, the following code is a list with the label names, so that label 0 is \"airplane\", label 1 is \"automobile\", etc."
   ]
  },
  {
   "cell_type": "code",
   "execution_count": 2,
   "metadata": {},
   "outputs": [],
   "source": [
    "label_names = ['airplane', 'automobile', 'bird', 'cat', 'deer', 'dog', 'frog', 'horse', 'ship', 'truck']"
   ]
  },
  {
   "attachments": {},
   "cell_type": "markdown",
   "metadata": {},
   "source": [
    "4. Check whether the data are balanced. To do this, first write a function `call_counts` that takes as input the path of the folder that contains the training (or the test) data, and returns a dictionary where the keys are the label names, and the values are the image counts for each label. In the starter code we include a folder `sample_cifar10`  with a small number of images that you can use for your tests. We will use these images for the automatic tests in GitHub classroom. An example of execution of the file using this sample folder follows."
   ]
  },
  {
   "cell_type": "code",
   "execution_count": 3,
   "metadata": {},
   "outputs": [
    {
     "data": {
      "text/plain": [
       "{'ship': 8,\n",
       " 'frog': 6,\n",
       " 'cat': 6,\n",
       " 'automobile': 6,\n",
       " 'deer': 6,\n",
       " 'bird': 9,\n",
       " 'airplane': 10,\n",
       " 'truck': 4,\n",
       " 'dog': 8,\n",
       " 'horse': 3}"
      ]
     },
     "execution_count": 3,
     "metadata": {},
     "output_type": "execute_result"
    }
   ],
   "source": [
    "import week4\n",
    "week4.call_counts('sample_cifar10')"
   ]
  },
  {
   "attachments": {},
   "cell_type": "markdown",
   "metadata": {},
   "source": [
    "Use then this function to check whether the data of the training and test data are balanced."
   ]
  },
  {
   "attachments": {},
   "cell_type": "markdown",
   "metadata": {},
   "source": [
    "5. Write a Python function `sample_images` that takes as input the following information:\n",
    "     - `path`: the path of the folder that contains images\n",
    "     - `label_name`: a label name (e.g. \"deer\", \"horse\", etc)\n",
    "   The function must return a list of tuples (filename, label_name) that contains all file names in the path that belong to class, together with the label. \n",
    "   An example of usage follows:\n"
   ]
  },
  {
   "cell_type": "code",
   "execution_count": 4,
   "metadata": {},
   "outputs": [
    {
     "data": {
      "text/plain": [
       "[('sample_cifar10/7_4207.png', 'horse'),\n",
       " ('sample_cifar10/7_4197.png', 'horse'),\n",
       " ('sample_cifar10/7_4202.png', 'horse')]"
      ]
     },
     "execution_count": 4,
     "metadata": {},
     "output_type": "execute_result"
    }
   ],
   "source": [
    "import week4\n",
    "week4.sample_images(\"sample_cifar10\", \"horse\")"
   ]
  },
  {
   "attachments": {},
   "cell_type": "markdown",
   "metadata": {},
   "source": [
    "6. With the help of the function `sample_image_folder` (which is included in the starter code), generate three CSV files as follows:\n",
    "   - One CSV file \"train_set.csv\" that contains the first 2000 samples of categories \"bird\", \"cat\", \"deer\", \"horse\" from the **training** set.\n",
    "   - One CSV file \"devtest_set.csv\" that contains the subsequent 500 samples of the same categories from the **training** set. \n",
    "   - One CSV file \"test_set.csv\" that contains the first 500 samples of the same categories from the **test** set.\n",
    "   \n",
    "   You will use these CSV files in your subsequent work.\n",
    "\n",
    "   The function `sample_image_folder` takes these parameters:\n",
    "    - `path`: the path of the folder containing the images.\n",
    "    - `selected_label_names`: a list of label names.\n",
    "    - `sample_numbers`: a list of integers.\n",
    "    - `output_filenames`: a list of filenames where the CSV files will be stored. \n",
    "    \n",
    "   An example of use of this function follows. In this example:\n",
    "    - The first 2 samples of classes with names \"deer\", \"airplane\", and \"truck\" are saved in the CSV file with name \"file1.csv\".\n",
    "    - The next sample of the same classes is saved in the CSV file with name \"file2.csv\"."
   ]
  },
  {
   "cell_type": "code",
   "execution_count": 5,
   "metadata": {},
   "outputs": [
    {
     "data": {
      "text/plain": [
       "['file1.csv', 'file2.csv']"
      ]
     },
     "execution_count": 5,
     "metadata": {},
     "output_type": "execute_result"
    }
   ],
   "source": [
    "import week4\n",
    "week4.sample_image_folder('sample_cifar10', ('deer', 'airplane', 'truck'), (2, 1), ('file1.csv', 'file2.csv'))"
   ]
  },
  {
   "cell_type": "code",
   "execution_count": 6,
   "metadata": {},
   "outputs": [
    {
     "data": {
      "text/html": [
       "<div>\n",
       "<style scoped>\n",
       "    .dataframe tbody tr th:only-of-type {\n",
       "        vertical-align: middle;\n",
       "    }\n",
       "\n",
       "    .dataframe tbody tr th {\n",
       "        vertical-align: top;\n",
       "    }\n",
       "\n",
       "    .dataframe thead th {\n",
       "        text-align: right;\n",
       "    }\n",
       "</style>\n",
       "<table border=\"1\" class=\"dataframe\">\n",
       "  <thead>\n",
       "    <tr style=\"text-align: right;\">\n",
       "      <th></th>\n",
       "      <th>path</th>\n",
       "      <th>label_name</th>\n",
       "    </tr>\n",
       "  </thead>\n",
       "  <tbody>\n",
       "    <tr>\n",
       "      <th>0</th>\n",
       "      <td>sample_cifar10/4_4689.png</td>\n",
       "      <td>deer</td>\n",
       "    </tr>\n",
       "    <tr>\n",
       "      <th>1</th>\n",
       "      <td>sample_cifar10/4_4703.png</td>\n",
       "      <td>deer</td>\n",
       "    </tr>\n",
       "    <tr>\n",
       "      <th>2</th>\n",
       "      <td>sample_cifar10/0_12.png</td>\n",
       "      <td>airplane</td>\n",
       "    </tr>\n",
       "    <tr>\n",
       "      <th>3</th>\n",
       "      <td>sample_cifar10/0_0.png</td>\n",
       "      <td>airplane</td>\n",
       "    </tr>\n",
       "    <tr>\n",
       "      <th>4</th>\n",
       "      <td>sample_cifar10/9_1172.png</td>\n",
       "      <td>truck</td>\n",
       "    </tr>\n",
       "  </tbody>\n",
       "</table>\n",
       "</div>"
      ],
      "text/plain": [
       "                        path label_name\n",
       "0  sample_cifar10/4_4689.png       deer\n",
       "1  sample_cifar10/4_4703.png       deer\n",
       "2    sample_cifar10/0_12.png   airplane\n",
       "3     sample_cifar10/0_0.png   airplane\n",
       "4  sample_cifar10/9_1172.png      truck"
      ]
     },
     "execution_count": 6,
     "metadata": {},
     "output_type": "execute_result"
    }
   ],
   "source": [
    "import pandas as pd\n",
    "pd_file1 = pd.read_csv('file1.csv', names=['path','label_name'])\n",
    "pd_file1.head()"
   ]
  },
  {
   "cell_type": "code",
   "execution_count": 7,
   "metadata": {},
   "outputs": [
    {
     "data": {
      "text/html": [
       "<div>\n",
       "<style scoped>\n",
       "    .dataframe tbody tr th:only-of-type {\n",
       "        vertical-align: middle;\n",
       "    }\n",
       "\n",
       "    .dataframe tbody tr th {\n",
       "        vertical-align: top;\n",
       "    }\n",
       "\n",
       "    .dataframe thead th {\n",
       "        text-align: right;\n",
       "    }\n",
       "</style>\n",
       "<table border=\"1\" class=\"dataframe\">\n",
       "  <thead>\n",
       "    <tr style=\"text-align: right;\">\n",
       "      <th></th>\n",
       "      <th>path</th>\n",
       "      <th>label_name</th>\n",
       "    </tr>\n",
       "  </thead>\n",
       "  <tbody>\n",
       "    <tr>\n",
       "      <th>0</th>\n",
       "      <td>sample_cifar10/4_4680.png</td>\n",
       "      <td>deer</td>\n",
       "    </tr>\n",
       "    <tr>\n",
       "      <th>1</th>\n",
       "      <td>sample_cifar10/0_18.png</td>\n",
       "      <td>airplane</td>\n",
       "    </tr>\n",
       "    <tr>\n",
       "      <th>2</th>\n",
       "      <td>sample_cifar10/9_1183.png</td>\n",
       "      <td>truck</td>\n",
       "    </tr>\n",
       "  </tbody>\n",
       "</table>\n",
       "</div>"
      ],
      "text/plain": [
       "                        path label_name\n",
       "0  sample_cifar10/4_4680.png       deer\n",
       "1    sample_cifar10/0_18.png   airplane\n",
       "2  sample_cifar10/9_1183.png      truck"
      ]
     },
     "execution_count": 7,
     "metadata": {},
     "output_type": "execute_result"
    }
   ],
   "source": [
    "pd_file2 = pd.read_csv('file2.csv', names=['path','label_name'])\n",
    "pd_file2.head()"
   ]
  },
  {
   "attachments": {},
   "cell_type": "markdown",
   "metadata": {},
   "source": [
    "# 3. Implement Transfer Learning\n",
    "\n",
    "Re-use and adapt the code from notebook [`W04L1-1-flowers-transferlearning.ipynb`](../Lectures/W04L1-1-flowers-transferlearning.ipynb) so that it uses Mobilenet_v02 pre-trained with imagenet. Train the model with your training data, and evaluate it with your test data. Comment on your results. Answer the following questions.\n",
    "\n",
    "1. What is the accuracy of the training data and the test data?\n",
    "2. What is the optimal choice of number of epochs, based on your experiments?"
   ]
  },
  {
   "cell_type": "code",
   "execution_count": null,
   "metadata": {},
   "outputs": [],
   "source": []
  },
  {
   "attachments": {},
   "cell_type": "markdown",
   "metadata": {},
   "source": [
    "# 4. (Optional) Improve your system\n",
    "\n",
    "The code from `W04L1-1-flowers-transferlearning.ipynb` uses a specific choice of number of hidden layers and size. Experiment with additional numbers of hidden layers and sizes, and whether to include dropout or not. Comment on your results. Did you manage to obtain better results?"
   ]
  },
  {
   "cell_type": "code",
   "execution_count": null,
   "metadata": {},
   "outputs": [],
   "source": []
  }
 ],
 "metadata": {
  "anaconda-cloud": {},
  "kernelspec": {
   "display_name": "comp3420",
   "language": "python",
   "name": "python3"
  },
  "language_info": {
   "codemirror_mode": {
    "name": "ipython",
    "version": 3
   },
   "file_extension": ".py",
   "mimetype": "text/x-python",
   "name": "python",
   "nbconvert_exporter": "python",
   "pygments_lexer": "ipython3",
   "version": "3.9.16"
  },
  "vscode": {
   "interpreter": {
    "hash": "c02f33083e7812b9e1e2691d902fc78cd9db9629fd265ab84f982d3fd9e6cdd0"
   }
  }
 },
 "nbformat": 4,
 "nbformat_minor": 2
}
